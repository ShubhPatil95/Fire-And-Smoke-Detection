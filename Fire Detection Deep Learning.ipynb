{
 "cells": [
  {
   "cell_type": "code",
   "execution_count": 1,
   "id": "e2e8b75d",
   "metadata": {},
   "outputs": [],
   "source": [
    "import tensorflow as tf\n",
    "from tensorflow.keras.preprocessing.image import ImageDataGenerator\n",
    "from tensorflow import keras\n",
    "from tensorflow.keras import layers\n",
    "from tensorflow.keras.preprocessing import image\n",
    "import numpy as np\n",
    "import matplotlib.pyplot as plt\n",
    "import PIL\n",
    "import cv2"
   ]
  },
  {
   "cell_type": "markdown",
   "id": "cb49ea0b",
   "metadata": {},
   "source": [
    "#### Data Augmentation - Creating images from existing images"
   ]
  },
  {
   "cell_type": "code",
   "execution_count": 2,
   "id": "eddee035",
   "metadata": {},
   "outputs": [],
   "source": [
    "batch_size=16\n",
    "training_datagenerator=ImageDataGenerator(rescale=1./255,horizontal_flip=True,\n",
    "                                         vertical_flip=True,shear_range=0.2,\n",
    "                                          zoom_range=0.2,width_shift_range=0.2,height_shift_range=0.2,validation_split=0.1)"
   ]
  },
  {
   "cell_type": "markdown",
   "id": "a60145f6",
   "metadata": {},
   "source": [
    "#### Deviding data into tranining and validation"
   ]
  },
  {
   "cell_type": "code",
   "execution_count": 3,
   "id": "95f53ea1",
   "metadata": {
    "scrolled": true
   },
   "outputs": [
    {
     "name": "stdout",
     "output_type": "stream",
     "text": [
      "Found 12360 images belonging to 2 classes.\n",
      "Found 1373 images belonging to 2 classes.\n"
     ]
    }
   ],
   "source": [
    "train=training_datagenerator.flow_from_directory(\"C://Users//shubhamp//Desktop//FIre Dection//Dataset//Training Data\",\n",
    "                                                target_size=(256,256),color_mode=\"rgb\",\n",
    "                                                class_mode=\"binary\",batch_size=batch_size,subset=\"training\")\n",
    "\n",
    "validation=training_datagenerator.flow_from_directory(\"C://Users//shubhamp//Desktop//FIre Dection//Dataset//Training Data\",\n",
    "                                                target_size=(256,256),color_mode=\"rgb\",\n",
    "                                               class_mode=\"binary\",batch_size=batch_size,subset=\"validation\")\n",
    "\n",
    "print(train.class_indices)"
   ]
  },
  {
   "cell_type": "markdown",
   "id": "797dd2d3",
   "metadata": {},
   "source": [
    "#### Build CNN"
   ]
  },
  {
   "cell_type": "code",
   "execution_count": 4,
   "id": "0b63fa11",
   "metadata": {},
   "outputs": [],
   "source": [
    "cnn=tf.keras.models.Sequential()\n",
    "cnn.add(layers.Conv2D(filters=32,kernel_size=3,padding=\"same\",activation=\"relu\",input_shape=[256,256,3]))\n",
    "cnn.add(layers.MaxPooling2D(pool_size=2))\n",
    "\n",
    "cnn.add(layers.Conv2D(filters=64,kernel_size=3,padding=\"same\",activation=\"relu\"))\n",
    "cnn.add(layers.MaxPooling2D(pool_size=2))\n",
    "\n",
    "cnn.add(layers.Conv2D(filters=256,kernel_size=3,padding=\"same\",activation=\"relu\"))\n",
    "cnn.add(layers.MaxPooling2D(pool_size=2))\n",
    "\n",
    "cnn.add(layers.Flatten())\n",
    "\n",
    "cnn.add(layers.Dense(units=128,activation=\"relu\"))\n",
    "\n",
    "cnn.add(layers.Dense(units=1,activation=\"sigmoid\"))"
   ]
  },
  {
   "cell_type": "code",
   "execution_count": 5,
   "id": "2d6e6f1b",
   "metadata": {},
   "outputs": [
    {
     "name": "stdout",
     "output_type": "stream",
     "text": [
      "Model: \"sequential\"\n",
      "_________________________________________________________________\n",
      "Layer (type)                 Output Shape              Param #   \n",
      "=================================================================\n",
      "conv2d (Conv2D)              (None, 256, 256, 32)      896       \n",
      "_________________________________________________________________\n",
      "max_pooling2d (MaxPooling2D) (None, 128, 128, 32)      0         \n",
      "_________________________________________________________________\n",
      "conv2d_1 (Conv2D)            (None, 128, 128, 64)      18496     \n",
      "_________________________________________________________________\n",
      "max_pooling2d_1 (MaxPooling2 (None, 64, 64, 64)        0         \n",
      "_________________________________________________________________\n",
      "conv2d_2 (Conv2D)            (None, 64, 64, 256)       147712    \n",
      "_________________________________________________________________\n",
      "max_pooling2d_2 (MaxPooling2 (None, 32, 32, 256)       0         \n",
      "_________________________________________________________________\n",
      "flatten (Flatten)            (None, 262144)            0         \n",
      "_________________________________________________________________\n",
      "dense (Dense)                (None, 128)               33554560  \n",
      "_________________________________________________________________\n",
      "dense_1 (Dense)              (None, 1)                 129       \n",
      "=================================================================\n",
      "Total params: 33,721,793\n",
      "Trainable params: 33,721,793\n",
      "Non-trainable params: 0\n",
      "_________________________________________________________________\n"
     ]
    }
   ],
   "source": [
    "cnn.summary()"
   ]
  },
  {
   "cell_type": "markdown",
   "id": "830fe5ba",
   "metadata": {},
   "source": [
    "### Training"
   ]
  },
  {
   "cell_type": "code",
   "execution_count": 6,
   "id": "9af92b56",
   "metadata": {},
   "outputs": [],
   "source": [
    "checkpoint=tf.keras.callbacks.ModelCheckpoint('C://Users//shubhamp//Desktop//FIre Dection//Models//fire_smoke.h5',\n",
    "                                             monitor='val_loss',mode=\"min\",\n",
    "                                             save_best_only=True)\n",
    "callbacks=checkpoint"
   ]
  },
  {
   "cell_type": "code",
   "execution_count": 7,
   "id": "af0a3f39",
   "metadata": {},
   "outputs": [],
   "source": [
    "# cnn.compile(optimizer=\"Adam\",loss='binary_crossentropy',metrics=[\"accuracy\"])\n",
    "# cnn.fit_generator(train,validation_data=validation,epochs=1,steps_per_epoch=train.samples//batch_size )"
   ]
  },
  {
   "cell_type": "markdown",
   "id": "8d4893d2",
   "metadata": {},
   "source": [
    "### Testing"
   ]
  },
  {
   "cell_type": "code",
   "execution_count": 8,
   "id": "53771f18",
   "metadata": {},
   "outputs": [],
   "source": [
    "# cnn.save('C://Users//shubhamp//Desktop//FIre Dection//Models//CNN_Fire.h5')\n",
    "\n",
    "model = keras.models.load_model('C://Users//shubhamp//Desktop//FIre Dection//Models//CNN_Fire.h5')"
   ]
  },
  {
   "cell_type": "code",
   "execution_count": 9,
   "id": "224733da",
   "metadata": {},
   "outputs": [
    {
     "name": "stdout",
     "output_type": "stream",
     "text": [
      "WARNING:tensorflow:From C:\\Users\\shubhamp\\AppData\\Local\\Temp/ipykernel_12196/1474910948.py:9: Sequential.predict_classes (from tensorflow.python.keras.engine.sequential) is deprecated and will be removed after 2021-01-01.\n",
      "Instructions for updating:\n",
      "Please use instead:* `np.argmax(model.predict(x), axis=-1)`,   if your model does multi-class classification   (e.g. if it uses a `softmax` last-layer activation).* `(model.predict(x) > 0.5).astype(\"int32\")`,   if your model does binary classification   (e.g. if it uses a `sigmoid` last-layer activation).\n"
     ]
    },
    {
     "ename": "KeyboardInterrupt",
     "evalue": "",
     "output_type": "error",
     "traceback": [
      "\u001b[1;31m---------------------------------------------------------------------------\u001b[0m",
      "\u001b[1;31mKeyboardInterrupt\u001b[0m                         Traceback (most recent call last)",
      "\u001b[1;32m~\\AppData\\Local\\Temp/ipykernel_12196/1474910948.py\u001b[0m in \u001b[0;36m<module>\u001b[1;34m\u001b[0m\n\u001b[0;32m     13\u001b[0m \u001b[0ma\u001b[0m\u001b[1;33m=\u001b[0m\u001b[0mcv2\u001b[0m\u001b[1;33m.\u001b[0m\u001b[0mimread\u001b[0m\u001b[1;33m(\u001b[0m\u001b[0mtest_path\u001b[0m\u001b[1;33m)\u001b[0m\u001b[1;33m\u001b[0m\u001b[1;33m\u001b[0m\u001b[0m\n\u001b[0;32m     14\u001b[0m \u001b[0mcv2\u001b[0m\u001b[1;33m.\u001b[0m\u001b[0mimshow\u001b[0m\u001b[1;33m(\u001b[0m\u001b[0mcategories\u001b[0m\u001b[1;33m[\u001b[0m\u001b[0mresult\u001b[0m\u001b[1;33m[\u001b[0m\u001b[1;36m0\u001b[0m\u001b[1;33m]\u001b[0m\u001b[1;33m[\u001b[0m\u001b[1;36m0\u001b[0m\u001b[1;33m]\u001b[0m\u001b[1;33m]\u001b[0m\u001b[1;33m,\u001b[0m\u001b[0ma\u001b[0m\u001b[1;33m)\u001b[0m\u001b[1;33m\u001b[0m\u001b[1;33m\u001b[0m\u001b[0m\n\u001b[1;32m---> 15\u001b[1;33m \u001b[0mcv2\u001b[0m\u001b[1;33m.\u001b[0m\u001b[0mwaitKey\u001b[0m\u001b[1;33m(\u001b[0m\u001b[1;36m0\u001b[0m\u001b[1;33m)\u001b[0m\u001b[1;33m\u001b[0m\u001b[1;33m\u001b[0m\u001b[0m\n\u001b[0m\u001b[0;32m     16\u001b[0m \u001b[0mcv2\u001b[0m\u001b[1;33m.\u001b[0m\u001b[0mdestroyAllWindows\u001b[0m\u001b[1;33m(\u001b[0m\u001b[1;33m)\u001b[0m\u001b[1;33m\u001b[0m\u001b[1;33m\u001b[0m\u001b[0m\n",
      "\u001b[1;31mKeyboardInterrupt\u001b[0m: "
     ]
    }
   ],
   "source": [
    "test_path=\"C://Users//shubhamp//Desktop//FIre Dection//Dataset//Testing Data//train_fire//test_small//Chimney-Fire3.jpg\"\n",
    "test_image=image.load_img(test_path,target_size=(256,256))\n",
    "test_image=image.img_to_array(test_image)\n",
    "\n",
    "test_image=test_image/255\n",
    "\n",
    "test_image=np.expand_dims(test_image,axis=0)\n",
    "\n",
    "result=model.predict_classes(test_image)\n",
    "\n",
    "categories=[\"Smoke\",\"Fire\"]\n",
    "\n",
    "a=cv2.imread(test_path)\n",
    "cv2.imshow(categories[result[0][0]],a)\n",
    "cv2.waitKey(0)\n",
    "cv2.destroyAllWindows()"
   ]
  },
  {
   "cell_type": "code",
   "execution_count": 23,
   "id": "23896dfe",
   "metadata": {},
   "outputs": [
    {
     "data": {
      "text/plain": [
       "[None]"
      ]
     },
     "execution_count": 23,
     "metadata": {},
     "output_type": "execute_result"
    }
   ],
   "source": [
    "from skimage.io import imread_collection\n",
    "\n",
    "col = imread_collection(\"C://Users//shubhamp//Desktop//FIre Dection//Dataset//Testing Data//test_small\")\n",
    "\n",
    "import glob\n",
    "cv_img = []\n",
    "for img in glob.glob(\"C://Users//shubhamp//Desktop//FIre Dection//Dataset//Testing Data//test_small\"):\n",
    "    n= cv2.imread(img)\n",
    "    cv_img.append(n)\n",
    "cv_img"
   ]
  }
 ],
 "metadata": {
  "kernelspec": {
   "display_name": "Python 3 (ipykernel)",
   "language": "python",
   "name": "python3"
  },
  "language_info": {
   "codemirror_mode": {
    "name": "ipython",
    "version": 3
   },
   "file_extension": ".py",
   "mimetype": "text/x-python",
   "name": "python",
   "nbconvert_exporter": "python",
   "pygments_lexer": "ipython3",
   "version": "3.8.8"
  }
 },
 "nbformat": 4,
 "nbformat_minor": 5
}
